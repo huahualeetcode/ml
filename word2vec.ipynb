{
 "cells": [
  {
   "cell_type": "markdown",
   "metadata": {},
   "source": [
    "# Word2Vec"
   ]
  },
  {
   "cell_type": "code",
   "execution_count": 1,
   "metadata": {},
   "outputs": [],
   "source": [
    "import pandas as pd"
   ]
  },
  {
   "cell_type": "markdown",
   "metadata": {},
   "source": [
    "## Raw Data"
   ]
  },
  {
   "cell_type": "code",
   "execution_count": 162,
   "metadata": {},
   "outputs": [],
   "source": [
    "raw_corpus = [u\"国王 是 勇敢的 男人\",\n",
    "              u\"国王 是 强壮的 男人\",\n",
    "              u\"王后 是 美丽的 女人\",\n",
    "              u\"王后 是 动人的 女人\",\n",
    "              u\"王子 是 男孩\",\n",
    "              u\"公主 是 女孩\",\n",
    "              u\"王子 会是 国王\",\n",
    "              u\"公主 会是 王后\",\n",
    "              u\"男孩 是 年幼的 男人\",\n",
    "              u\"女孩 是 年幼的 女人\"]"
   ]
  },
  {
   "cell_type": "markdown",
   "metadata": {},
   "source": [
    "## Remove Stop words"
   ]
  },
  {
   "cell_type": "code",
   "execution_count": 163,
   "metadata": {},
   "outputs": [],
   "source": [
    "def remove_stop_words(corpus):\n",
    "    stop_words = [u\"是\", u\"会是\"]    \n",
    "    return [\" \".join([w for w in s.split(' ') if w not in stop_words]) for s in corpus]"
   ]
  },
  {
   "cell_type": "code",
   "execution_count": 164,
   "metadata": {},
   "outputs": [],
   "source": [
    "corpus = remove_stop_words(raw_corpus)"
   ]
  },
  {
   "cell_type": "code",
   "execution_count": 165,
   "metadata": {},
   "outputs": [],
   "source": [
    "all_words = set().union(*([s.split(' ') for s in corpus]))"
   ]
  },
  {
   "cell_type": "code",
   "execution_count": 166,
   "metadata": {},
   "outputs": [
    {
     "data": {
      "text/plain": [
       "{'公主',\n",
       " '动人的',\n",
       " '勇敢的',\n",
       " '国王',\n",
       " '女人',\n",
       " '女孩',\n",
       " '年幼的',\n",
       " '强壮的',\n",
       " '王后',\n",
       " '王子',\n",
       " '男人',\n",
       " '男孩',\n",
       " '美丽的'}"
      ]
     },
     "execution_count": 166,
     "metadata": {},
     "output_type": "execute_result"
    }
   ],
   "source": [
    "all_words"
   ]
  },
  {
   "cell_type": "markdown",
   "metadata": {},
   "source": [
    "## Create dataset"
   ]
  },
  {
   "cell_type": "code",
   "execution_count": 167,
   "metadata": {},
   "outputs": [],
   "source": [
    "word_index = {}\n",
    "\n",
    "for i, word in enumerate(all_words):\n",
    "    word_index[word] = i\n",
    "    \n",
    "WINDOW_SIZE = 2\n",
    "data = []\n",
    "for s in corpus:\n",
    "    words = s.split()\n",
    "    for i, word in enumerate(words):        \n",
    "        for neighbor in words[max(i - WINDOW_SIZE, 0) : min(i + WINDOW_SIZE + 1, len(s))]:\n",
    "            if word != neighbor:\n",
    "                data.append([word, neighbor])\n",
    "\n",
    "df = pd.DataFrame(data, columns = ['input', 'label'])"
   ]
  },
  {
   "cell_type": "code",
   "execution_count": 168,
   "metadata": {},
   "outputs": [
    {
     "data": {
      "text/html": [
       "<div>\n",
       "<style scoped>\n",
       "    .dataframe tbody tr th:only-of-type {\n",
       "        vertical-align: middle;\n",
       "    }\n",
       "\n",
       "    .dataframe tbody tr th {\n",
       "        vertical-align: top;\n",
       "    }\n",
       "\n",
       "    .dataframe thead th {\n",
       "        text-align: right;\n",
       "    }\n",
       "</style>\n",
       "<table border=\"1\" class=\"dataframe\">\n",
       "  <thead>\n",
       "    <tr style=\"text-align: right;\">\n",
       "      <th></th>\n",
       "      <th>input</th>\n",
       "      <th>label</th>\n",
       "    </tr>\n",
       "  </thead>\n",
       "  <tbody>\n",
       "    <tr>\n",
       "      <th>0</th>\n",
       "      <td>国王</td>\n",
       "      <td>勇敢的</td>\n",
       "    </tr>\n",
       "    <tr>\n",
       "      <th>1</th>\n",
       "      <td>国王</td>\n",
       "      <td>男人</td>\n",
       "    </tr>\n",
       "    <tr>\n",
       "      <th>2</th>\n",
       "      <td>勇敢的</td>\n",
       "      <td>国王</td>\n",
       "    </tr>\n",
       "    <tr>\n",
       "      <th>3</th>\n",
       "      <td>勇敢的</td>\n",
       "      <td>男人</td>\n",
       "    </tr>\n",
       "    <tr>\n",
       "      <th>4</th>\n",
       "      <td>男人</td>\n",
       "      <td>国王</td>\n",
       "    </tr>\n",
       "    <tr>\n",
       "      <th>5</th>\n",
       "      <td>男人</td>\n",
       "      <td>勇敢的</td>\n",
       "    </tr>\n",
       "    <tr>\n",
       "      <th>6</th>\n",
       "      <td>国王</td>\n",
       "      <td>强壮的</td>\n",
       "    </tr>\n",
       "    <tr>\n",
       "      <th>7</th>\n",
       "      <td>国王</td>\n",
       "      <td>男人</td>\n",
       "    </tr>\n",
       "    <tr>\n",
       "      <th>8</th>\n",
       "      <td>强壮的</td>\n",
       "      <td>国王</td>\n",
       "    </tr>\n",
       "    <tr>\n",
       "      <th>9</th>\n",
       "      <td>强壮的</td>\n",
       "      <td>男人</td>\n",
       "    </tr>\n",
       "    <tr>\n",
       "      <th>10</th>\n",
       "      <td>男人</td>\n",
       "      <td>国王</td>\n",
       "    </tr>\n",
       "    <tr>\n",
       "      <th>11</th>\n",
       "      <td>男人</td>\n",
       "      <td>强壮的</td>\n",
       "    </tr>\n",
       "    <tr>\n",
       "      <th>12</th>\n",
       "      <td>王后</td>\n",
       "      <td>美丽的</td>\n",
       "    </tr>\n",
       "    <tr>\n",
       "      <th>13</th>\n",
       "      <td>王后</td>\n",
       "      <td>女人</td>\n",
       "    </tr>\n",
       "    <tr>\n",
       "      <th>14</th>\n",
       "      <td>美丽的</td>\n",
       "      <td>王后</td>\n",
       "    </tr>\n",
       "    <tr>\n",
       "      <th>15</th>\n",
       "      <td>美丽的</td>\n",
       "      <td>女人</td>\n",
       "    </tr>\n",
       "    <tr>\n",
       "      <th>16</th>\n",
       "      <td>女人</td>\n",
       "      <td>王后</td>\n",
       "    </tr>\n",
       "    <tr>\n",
       "      <th>17</th>\n",
       "      <td>女人</td>\n",
       "      <td>美丽的</td>\n",
       "    </tr>\n",
       "    <tr>\n",
       "      <th>18</th>\n",
       "      <td>王后</td>\n",
       "      <td>动人的</td>\n",
       "    </tr>\n",
       "    <tr>\n",
       "      <th>19</th>\n",
       "      <td>王后</td>\n",
       "      <td>女人</td>\n",
       "    </tr>\n",
       "    <tr>\n",
       "      <th>20</th>\n",
       "      <td>动人的</td>\n",
       "      <td>王后</td>\n",
       "    </tr>\n",
       "    <tr>\n",
       "      <th>21</th>\n",
       "      <td>动人的</td>\n",
       "      <td>女人</td>\n",
       "    </tr>\n",
       "    <tr>\n",
       "      <th>22</th>\n",
       "      <td>女人</td>\n",
       "      <td>王后</td>\n",
       "    </tr>\n",
       "    <tr>\n",
       "      <th>23</th>\n",
       "      <td>女人</td>\n",
       "      <td>动人的</td>\n",
       "    </tr>\n",
       "    <tr>\n",
       "      <th>24</th>\n",
       "      <td>王子</td>\n",
       "      <td>男孩</td>\n",
       "    </tr>\n",
       "    <tr>\n",
       "      <th>25</th>\n",
       "      <td>男孩</td>\n",
       "      <td>王子</td>\n",
       "    </tr>\n",
       "    <tr>\n",
       "      <th>26</th>\n",
       "      <td>公主</td>\n",
       "      <td>女孩</td>\n",
       "    </tr>\n",
       "    <tr>\n",
       "      <th>27</th>\n",
       "      <td>女孩</td>\n",
       "      <td>公主</td>\n",
       "    </tr>\n",
       "    <tr>\n",
       "      <th>28</th>\n",
       "      <td>王子</td>\n",
       "      <td>国王</td>\n",
       "    </tr>\n",
       "    <tr>\n",
       "      <th>29</th>\n",
       "      <td>国王</td>\n",
       "      <td>王子</td>\n",
       "    </tr>\n",
       "    <tr>\n",
       "      <th>30</th>\n",
       "      <td>公主</td>\n",
       "      <td>王后</td>\n",
       "    </tr>\n",
       "    <tr>\n",
       "      <th>31</th>\n",
       "      <td>王后</td>\n",
       "      <td>公主</td>\n",
       "    </tr>\n",
       "    <tr>\n",
       "      <th>32</th>\n",
       "      <td>男孩</td>\n",
       "      <td>年幼的</td>\n",
       "    </tr>\n",
       "    <tr>\n",
       "      <th>33</th>\n",
       "      <td>男孩</td>\n",
       "      <td>男人</td>\n",
       "    </tr>\n",
       "    <tr>\n",
       "      <th>34</th>\n",
       "      <td>年幼的</td>\n",
       "      <td>男孩</td>\n",
       "    </tr>\n",
       "    <tr>\n",
       "      <th>35</th>\n",
       "      <td>年幼的</td>\n",
       "      <td>男人</td>\n",
       "    </tr>\n",
       "    <tr>\n",
       "      <th>36</th>\n",
       "      <td>男人</td>\n",
       "      <td>男孩</td>\n",
       "    </tr>\n",
       "    <tr>\n",
       "      <th>37</th>\n",
       "      <td>男人</td>\n",
       "      <td>年幼的</td>\n",
       "    </tr>\n",
       "    <tr>\n",
       "      <th>38</th>\n",
       "      <td>女孩</td>\n",
       "      <td>年幼的</td>\n",
       "    </tr>\n",
       "    <tr>\n",
       "      <th>39</th>\n",
       "      <td>女孩</td>\n",
       "      <td>女人</td>\n",
       "    </tr>\n",
       "    <tr>\n",
       "      <th>40</th>\n",
       "      <td>年幼的</td>\n",
       "      <td>女孩</td>\n",
       "    </tr>\n",
       "    <tr>\n",
       "      <th>41</th>\n",
       "      <td>年幼的</td>\n",
       "      <td>女人</td>\n",
       "    </tr>\n",
       "    <tr>\n",
       "      <th>42</th>\n",
       "      <td>女人</td>\n",
       "      <td>女孩</td>\n",
       "    </tr>\n",
       "    <tr>\n",
       "      <th>43</th>\n",
       "      <td>女人</td>\n",
       "      <td>年幼的</td>\n",
       "    </tr>\n",
       "  </tbody>\n",
       "</table>\n",
       "</div>"
      ],
      "text/plain": [
       "   input label\n",
       "0     国王   勇敢的\n",
       "1     国王    男人\n",
       "2    勇敢的    国王\n",
       "3    勇敢的    男人\n",
       "4     男人    国王\n",
       "5     男人   勇敢的\n",
       "6     国王   强壮的\n",
       "7     国王    男人\n",
       "8    强壮的    国王\n",
       "9    强壮的    男人\n",
       "10    男人    国王\n",
       "11    男人   强壮的\n",
       "12    王后   美丽的\n",
       "13    王后    女人\n",
       "14   美丽的    王后\n",
       "15   美丽的    女人\n",
       "16    女人    王后\n",
       "17    女人   美丽的\n",
       "18    王后   动人的\n",
       "19    王后    女人\n",
       "20   动人的    王后\n",
       "21   动人的    女人\n",
       "22    女人    王后\n",
       "23    女人   动人的\n",
       "24    王子    男孩\n",
       "25    男孩    王子\n",
       "26    公主    女孩\n",
       "27    女孩    公主\n",
       "28    王子    国王\n",
       "29    国王    王子\n",
       "30    公主    王后\n",
       "31    王后    公主\n",
       "32    男孩   年幼的\n",
       "33    男孩    男人\n",
       "34   年幼的    男孩\n",
       "35   年幼的    男人\n",
       "36    男人    男孩\n",
       "37    男人   年幼的\n",
       "38    女孩   年幼的\n",
       "39    女孩    女人\n",
       "40   年幼的    女孩\n",
       "41   年幼的    女人\n",
       "42    女人    女孩\n",
       "43    女人   年幼的"
      ]
     },
     "execution_count": 168,
     "metadata": {},
     "output_type": "execute_result"
    }
   ],
   "source": [
    "df.head(52)"
   ]
  },
  {
   "cell_type": "code",
   "execution_count": 169,
   "metadata": {},
   "outputs": [
    {
     "data": {
      "text/plain": [
       "(44, 2)"
      ]
     },
     "execution_count": 169,
     "metadata": {},
     "output_type": "execute_result"
    }
   ],
   "source": [
    "df.shape"
   ]
  },
  {
   "cell_type": "code",
   "execution_count": 170,
   "metadata": {},
   "outputs": [
    {
     "data": {
      "text/plain": [
       "{'女孩': 0,\n",
       " '动人的': 1,\n",
       " '王后': 2,\n",
       " '公主': 3,\n",
       " '国王': 4,\n",
       " '王子': 5,\n",
       " '年幼的': 6,\n",
       " '女人': 7,\n",
       " '男人': 8,\n",
       " '强壮的': 9,\n",
       " '勇敢的': 10,\n",
       " '男孩': 11,\n",
       " '美丽的': 12}"
      ]
     },
     "execution_count": 170,
     "metadata": {},
     "output_type": "execute_result"
    }
   ],
   "source": [
    "word_index"
   ]
  },
  {
   "cell_type": "markdown",
   "metadata": {},
   "source": [
    "# Build our model"
   ]
  },
  {
   "cell_type": "code",
   "execution_count": 171,
   "metadata": {},
   "outputs": [],
   "source": [
    "import tensorflow as tf\n",
    "import numpy as np\n",
    "\n",
    "N = len(word_index)\n",
    "\n",
    "def one_hot_encoding(i):\n",
    "    v = np.zeros(N)\n",
    "    v[i] = 1\n",
    "    return v"
   ]
  },
  {
   "cell_type": "code",
   "execution_count": 172,
   "metadata": {},
   "outputs": [],
   "source": [
    "X_train = np.asarray([one_hot_encoding(word_index[x]) for x in df['input']])\n",
    "Y_train = np.asarray([one_hot_encoding(word_index[y]) for y in df['label']])"
   ]
  },
  {
   "cell_type": "markdown",
   "metadata": {},
   "source": [
    "### Define network"
   ]
  },
  {
   "cell_type": "code",
   "execution_count": 182,
   "metadata": {
    "scrolled": true
   },
   "outputs": [],
   "source": [
    "x = tf.placeholder(tf.float32, shape=(None, N))\n",
    "y = tf.placeholder(tf.float32, shape=(None, N))\n",
    "\n",
    "# embedding dimesion\n",
    "E = 2\n",
    "\n",
    "# hidden layer\n",
    "W1 = tf.Variable(tf.random_normal([N, E]))\n",
    "b1 = tf.Variable(tf.random_normal([1]))\n",
    "hidden_layer = tf.add(tf.matmul(x, W1), b1)\n",
    "\n",
    "# output layer\n",
    "W2 = tf.Variable(tf.random_normal([E, N]))\n",
    "b2 = tf.Variable(tf.random_normal([1]))\n",
    "pred = tf.nn.softmax(tf.add(tf.matmul(hidden_layer, W2), b2))\n",
    "\n",
    "# lass: cross_entropy\n",
    "loss = tf.losses.softmax_cross_entropy(y, pred)"
   ]
  },
  {
   "cell_type": "markdown",
   "metadata": {},
   "source": [
    "## Training"
   ]
  },
  {
   "cell_type": "code",
   "execution_count": 183,
   "metadata": {},
   "outputs": [
    {
     "name": "stdout",
     "output_type": "stream",
     "text": [
      "iteration 0, loss 2.56\n",
      "iteration 1000, loss 2.44\n",
      "iteration 2000, loss 2.37\n",
      "iteration 3000, loss 2.37\n",
      "iteration 4000, loss 2.37\n",
      "iteration 5000, loss 2.36\n",
      "iteration 6000, loss 2.33\n",
      "iteration 7000, loss 2.33\n",
      "iteration 8000, loss 2.33\n",
      "iteration 9000, loss 2.33\n"
     ]
    }
   ],
   "source": [
    "learning_rate = 0.2\n",
    "train_op = tf.train.GradientDescentOptimizer(learning_rate).minimize(loss)\n",
    "iteration = 10000\n",
    "\n",
    "sess = tf.Session()\n",
    "init = tf.global_variables_initializer()\n",
    "sess.run(init)\n",
    "\n",
    "for i in range(iteration):\n",
    "    sess.run(train_op, feed_dict={x: X_train, y: Y_train})\n",
    "    if i % 1000 == 0:\n",
    "        print('iteration %d, loss %0.2f' % (i, sess.run(loss, feed_dict={x: X_train, y: Y_train})))\n"
   ]
  },
  {
   "cell_type": "code",
   "execution_count": 184,
   "metadata": {},
   "outputs": [
    {
     "name": "stdout",
     "output_type": "stream",
     "text": [
      "[[-0.675598    4.5472164 ]\n",
      " [ 3.2670612   0.7335049 ]\n",
      " [-0.669502    3.952902  ]\n",
      " [ 3.2681165   0.73440623]\n",
      " [ 1.8607508  -1.9840422 ]\n",
      " [ 1.467072    2.3861132 ]\n",
      " [-1.6547732  -1.2818336 ]\n",
      " [ 3.424651    0.72723705]\n",
      " [ 1.6738038   2.7049932 ]\n",
      " [ 2.5914705  -1.9611752 ]\n",
      " [ 2.1014264  -1.8775585 ]\n",
      " [ 1.1121513  -1.6537328 ]\n",
      " [ 3.2250557   0.71189696]]\n"
     ]
    }
   ],
   "source": [
    "pos = sess.run(W1 + b1)\n",
    "print(pos)"
   ]
  },
  {
   "cell_type": "markdown",
   "metadata": {},
   "source": [
    "## Visualize results"
   ]
  },
  {
   "cell_type": "code",
   "execution_count": 185,
   "metadata": {},
   "outputs": [
    {
     "data": {
      "text/plain": [
       "(-1.9840422, 4.5472164)"
      ]
     },
     "execution_count": 185,
     "metadata": {},
     "output_type": "execute_result"
    },
    {
     "data": {
      "image/png": "[encoded data removed]",
      "text/plain": [
       "<Figure size 720x720 with 1 Axes>"
      ]
     },
     "metadata": {
      "needs_background": "light"
     },
     "output_type": "display_data"
    }
   ],
   "source": [
    "import matplotlib\n",
    "import matplotlib.pyplot as plt\n",
    "\n",
    "import matplotlib.font_manager as fm\n",
    "myfont = fm.FontProperties(fname='C:/Windows/Fonts/msyh.ttc')\n",
    "\n",
    "fig, ax = plt.subplots()\n",
    "\n",
    "for word, (x, y) in zip(all_words, pos):\n",
    "    ax.annotate(word, (x, y), fontproperties=myfont)\n",
    "\n",
    "plt.xlim(min(pos[:,0]), max(pos[:,0]))\n",
    "plt.ylim(min(pos[:,1]), max(pos[:,1]))\n"
   ]
  },
  {
   "cell_type": "code",
   "execution_count": null,
   "metadata": {},
   "outputs": [],
   "source": []
  },
  {
   "cell_type": "code",
   "execution_count": null,
   "metadata": {},
   "outputs": [],
   "source": []
  }
 ],
 "metadata": {
  "kernelspec": {
   "display_name": "Python 3",
   "language": "python",
   "name": "python3"
  },
  "language_info": {
   "codemirror_mode": {
    "name": "ipython",
    "version": 3
   },
   "file_extension": ".py",
   "mimetype": "text/x-python",
   "name": "python",
   "nbconvert_exporter": "python",
   "pygments_lexer": "ipython3",
   "version": "3.6.2"
  }
 },
 "nbformat": 4,
 "nbformat_minor": 2
}
